{
 "cells": [
  {
   "attachments": {},
   "cell_type": "markdown",
   "metadata": {},
   "source": [
    "# Memoria de trabajo\n",
    "\n",
    "Lo primero que hice fue buscar sobre qué tema quería hacer mi Análisis Exploratorio de Datos (EDA). Al principio, pensé en hacerlo sobre el cambio climático o algo relacionado con la salud. Sin embargo, mis profesores me recomendaron hacerlo sobre algún tema que ya conociera, pues investigar sobre un área desconocida sería complicado.\n",
    "\n",
    "Por eso, como actualmente me dedico al sector de la comunicación y publicidad, decidí hacerlo sobre **qué palabras en los títulos de los videos de Youtube del canal 5-Minute Crafts ayudan a que este reciba más visitas**. Para poder trabajar los datos, descargué este cvs de Kaggle (**https://www.kaggle.com/datasets/shivamb/5minute-crafts-video-views-dataset/data**) y comencé a explorar los datos.\n",
    "\n",
    "Lo primero que hice fue una breve **exploración** de los datos para así plantear una hipótesis principal y otras secundarias. Algunas de estas han ido cambiado a medida que iba trabajando, pues me resultaban muy complicadas para trabajar o me daba cuenta de que no estaban bien formuladas. Por ejemplo, estas dos hipótesis decidí cambiarlas/eliminarlas de mi EDA: \"El uso de palabras clave que sugieran acción, por ejemplo: \"hazlo tú mismo\", \"aprende\", \"descubre\", puede estar asociado con un aumento en las visitas\" y \"La proporción de palabras mayúsculas y minúsculas está relacionada con el numero de visitas\".\n",
    "\n",
    "Paralelamente al trabajo de datos de mi EDA, tuve que estudiar y comprender las **pruebas estadísticas**. Para ello, volví a revisar la clase de Ronald de estadística y me apoyé en las explicaciones del canal de YouTube Biblioteca Digital 0 (https://www.youtube.com/playlist?list=PLXVWvU1X-WH0s1Gl5nRLTVwP42EgSgEVt)  para entender cada prueba con mayor claridad. Además, redacté mi propio esquema para saber identificar rapidamente que variables era paramétricas y no paramétricas, y así saber qué pruebas debería de hacer. Además, antes de ponerme manos a la obra, estuve investigando sobre Seaborn (https://seaborn.pydata.org/tutorial.html) para conocer qué tipo de gráficos podría hacer, cómo usar las paletas de color, etc.\n",
    "\n",
    "A continuación, a través de una función calculé la cardinalidad. No tuve en cuenta los valores nulos porque anterioremente comprobé que no tenía valores nulos, lo cual me facilitó el trabajo. Clasifiqué las variables de mis hipótesis para saber cómo trabajar con ellas:\n",
    "\n",
    "* Hipótesis Principal: Palabras \"clave\" (**Variable Independientes Cualitativa**) y total de visitas total de visitas (**Variable Dependiente Cuantitativa**)\n",
    "* Hipótesis 1: Número de caracteres del título (**Variable Independientes Cualitativa**) y total de visitas (**Variable Dependiente Cuantitativa**)\n",
    "* Hipótesis 2: Títulos que empiezan por dígito (Variable Independiente Cuantitativa al ser 0 y 1, pero es un forma de expresar True y False, por lo realmente se trata de un **Variable Cualitativa Independiente**) y total de visitas (**Variable Dependiente Cuantitativa**)\n",
    "* Hipótesis 3: Duración del vídeo (**Variable Cuantitativa Independiente**) total de visitas (**Variable Dependiente Cuantitativa**)\n",
    "* Hipótesis 4: Los títulos que están escritos completamente en mayúscula (**Variable Cualitativa Independiente (T/F)**), tienen más visitas (**Variable Dependiente Cuantitativa**) que los títulos que combinan mayúsculas y minusculas.\n",
    "* Hipótesis 5: El sentimiento del título (**Variable Cuantitativa Independiente**) y total de visitas (**Variable Dependiente Cuantitativa**)\n",
    "\n",
    "Además, agregué unas notas con información de algunas columnas para poder interpretarlas.\n",
    "\n",
    "Después de la primera exploración y conocer qué tipos de datos tenía, comencé con la **limpieza de datos**. Estuve viendo los outliers de las variables que me interesaban para conocerlas mejor. Además me di cuenta de que la columna de 'num_words_lowercase' no contaba correctamente las palabras en minúscula porque confundía la 'l' por este símbolo '|'. Por eso, tuve que hacer una función que reemplazase la 'l' por '|' y volviera a realizar un conteo.También, decidí borrar la columna 'video_id' ya que correspondía a los enlaces de los vídeos, los cuales no necesitaba. Por último, guarde los datos en limpios en un nuevo archivo ('clean_five_minute_crafts.csv').\n",
    "\n",
    "Una vez, hecha la limpieza, comencé con en el análisis. Comencé trabajando la hipótesis principal. Esta ha sido un de las hipótesis que más difícil me ha resultado trabajar, ya que buscando información sobre cómo poder identificar las palabras más repetidas en los títulos, encontré libreria **NLTK**(https://www.nltk.org/), pero fui capaz de trabajar con ella. Después, lo intenté con **Count Vectorizer**(https://keepcoding.io/blog/que-es-el-count-vectorizer/), que devolvía una matriz de documentos-palabras, pero esto tampoco me sirvió. Finalmente y tras muchas otras pruebas, encontré la solución usando **split()** (https://www.w3schools.com/python/ref_string_split.asp), que divide una cadena en una lista de subcadenas.\n",
    "\n",
    "Después, de trabajar la hipótesis principal, comencé a trabajar el resto apoyándome en la **documentación de Python** (https://docs.python.org/3/) y volviendo a visualizar el contenido que habíamos trabajado en clase. Volví a tener problemas al llegar a la cuarta hipótesis, \"los títulos que están escritos completamente en mayúscula, tienen más visitas que los títulos que combinan mayúsculas y minúsculas\". En un principio, yo quería trabajar otra hipótesis que contemplaba las palabras escritas con mayúsculas y minúsculas (Ejem: 'Cool'), pero me resultó muy difícil el conteo de estas. Por eso, me centré solo en palabras completas en mayúsculas y palabras completas en minísculas.\n",
    "\n",
    "Como conclusiones del EDA, puedo decir quem aunque se encontraron algunas correlaciones y tendencias en mis hipótesis, es importante destacar que la mayoría de estas relaciones son débiles y que la causalidad no se ha establecido.Para una comprensión más completa se debería continuar la investigación con más pruebas como, por ejemplo, la exploración del contenido de los vídeos, así como la calidad de producción y la relevancia del contenido. También se podría comparar las visitas en YouTube con otras redes sociales donde se comparten videos de 5-Minute Crafts. Además de poner en marcha una segmentación de audiencia y analizar si diferentes palabras clave atraen a públicos específicos y si esto influye en las visitas. Hay otros facores como las miniaturas elegidas en los vídeos pueden hacer que la audiencia haga clic o no en el vídeo. Sobre esto y otros tips habla en una entrevista (https://www.youtube.com/watch?v=UrDKHPFLXl8) uno de los youtubers de habla hispana con mayor número de suscriptores, Luisito Comunica."
   ]
  }
 ],
 "metadata": {
  "kernelspec": {
   "display_name": "Python 3",
   "language": "python",
   "name": "python3"
  },
  "language_info": {
   "name": "python",
   "version": "3.11.5 (v3.11.5:cce6ba91b3, Aug 24 2023, 10:50:31) [Clang 13.0.0 (clang-1300.0.29.30)]"
  },
  "orig_nbformat": 4,
  "vscode": {
   "interpreter": {
    "hash": "aee8b7b246df8f9039afb4144a1f6fd8d2ca17a180786b69acc140d282b71a49"
   }
  }
 },
 "nbformat": 4,
 "nbformat_minor": 2
}
